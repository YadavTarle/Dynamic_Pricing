{
 "cells": [
  {
   "cell_type": "markdown",
   "id": "58e9ea8e-4c58-4431-84b1-586e550d3387",
   "metadata": {},
   "source": [
    "# Dynamic Pricing "
   ]
  },
  {
   "cell_type": "markdown",
   "id": "0d3a9e27-3d9a-4a1d-b10c-1c35e09aed8b",
   "metadata": {},
   "source": [
    "#### Import libraries"
   ]
  },
  {
   "cell_type": "code",
   "execution_count": 1,
   "id": "be195413-ee45-4013-9632-32278e635245",
   "metadata": {},
   "outputs": [],
   "source": [
    "import numpy as np\n",
    "import pandas as pd\n",
    "import seaborn as sns\n",
    "import matplotlib.pyplot as plt"
   ]
  },
  {
   "cell_type": "markdown",
   "id": "7e927683-2ce7-47b9-a081-f236e07ade28",
   "metadata": {},
   "source": [
    "#### Import dataset and make dataframe"
   ]
  },
  {
   "cell_type": "code",
   "execution_count": 2,
   "id": "8d26c049-6139-468c-a847-eda835a23426",
   "metadata": {},
   "outputs": [
    {
     "data": {
      "text/html": [
       "<div>\n",
       "<style scoped>\n",
       "    .dataframe tbody tr th:only-of-type {\n",
       "        vertical-align: middle;\n",
       "    }\n",
       "\n",
       "    .dataframe tbody tr th {\n",
       "        vertical-align: top;\n",
       "    }\n",
       "\n",
       "    .dataframe thead th {\n",
       "        text-align: right;\n",
       "    }\n",
       "</style>\n",
       "<table border=\"1\" class=\"dataframe\">\n",
       "  <thead>\n",
       "    <tr style=\"text-align: right;\">\n",
       "      <th></th>\n",
       "      <th>Number_of_Riders</th>\n",
       "      <th>Number_of_Drivers</th>\n",
       "      <th>Location_Category</th>\n",
       "      <th>Customer_Loyalty_Status</th>\n",
       "      <th>Number_of_Past_Rides</th>\n",
       "      <th>Average_Ratings</th>\n",
       "      <th>Time_of_Booking</th>\n",
       "      <th>Vehicle_Type</th>\n",
       "      <th>Expected_Ride_Duration</th>\n",
       "      <th>Historical_Cost_of_Ride</th>\n",
       "    </tr>\n",
       "  </thead>\n",
       "  <tbody>\n",
       "    <tr>\n",
       "      <th>0</th>\n",
       "      <td>90</td>\n",
       "      <td>45</td>\n",
       "      <td>Urban</td>\n",
       "      <td>Silver</td>\n",
       "      <td>13</td>\n",
       "      <td>4.47</td>\n",
       "      <td>Night</td>\n",
       "      <td>Premium</td>\n",
       "      <td>90</td>\n",
       "      <td>284.257273</td>\n",
       "    </tr>\n",
       "    <tr>\n",
       "      <th>1</th>\n",
       "      <td>58</td>\n",
       "      <td>39</td>\n",
       "      <td>Suburban</td>\n",
       "      <td>Silver</td>\n",
       "      <td>72</td>\n",
       "      <td>4.06</td>\n",
       "      <td>Evening</td>\n",
       "      <td>Economy</td>\n",
       "      <td>43</td>\n",
       "      <td>173.874753</td>\n",
       "    </tr>\n",
       "    <tr>\n",
       "      <th>2</th>\n",
       "      <td>42</td>\n",
       "      <td>31</td>\n",
       "      <td>Rural</td>\n",
       "      <td>Silver</td>\n",
       "      <td>0</td>\n",
       "      <td>3.99</td>\n",
       "      <td>Afternoon</td>\n",
       "      <td>Premium</td>\n",
       "      <td>76</td>\n",
       "      <td>329.795469</td>\n",
       "    </tr>\n",
       "    <tr>\n",
       "      <th>3</th>\n",
       "      <td>89</td>\n",
       "      <td>28</td>\n",
       "      <td>Rural</td>\n",
       "      <td>Regular</td>\n",
       "      <td>67</td>\n",
       "      <td>4.31</td>\n",
       "      <td>Afternoon</td>\n",
       "      <td>Premium</td>\n",
       "      <td>134</td>\n",
       "      <td>470.201232</td>\n",
       "    </tr>\n",
       "    <tr>\n",
       "      <th>4</th>\n",
       "      <td>78</td>\n",
       "      <td>22</td>\n",
       "      <td>Rural</td>\n",
       "      <td>Regular</td>\n",
       "      <td>74</td>\n",
       "      <td>3.77</td>\n",
       "      <td>Afternoon</td>\n",
       "      <td>Economy</td>\n",
       "      <td>149</td>\n",
       "      <td>579.681422</td>\n",
       "    </tr>\n",
       "  </tbody>\n",
       "</table>\n",
       "</div>"
      ],
      "text/plain": [
       "   Number_of_Riders  Number_of_Drivers Location_Category  \\\n",
       "0                90                 45             Urban   \n",
       "1                58                 39          Suburban   \n",
       "2                42                 31             Rural   \n",
       "3                89                 28             Rural   \n",
       "4                78                 22             Rural   \n",
       "\n",
       "  Customer_Loyalty_Status  Number_of_Past_Rides  Average_Ratings  \\\n",
       "0                  Silver                    13             4.47   \n",
       "1                  Silver                    72             4.06   \n",
       "2                  Silver                     0             3.99   \n",
       "3                 Regular                    67             4.31   \n",
       "4                 Regular                    74             3.77   \n",
       "\n",
       "  Time_of_Booking Vehicle_Type  Expected_Ride_Duration  \\\n",
       "0           Night      Premium                      90   \n",
       "1         Evening      Economy                      43   \n",
       "2       Afternoon      Premium                      76   \n",
       "3       Afternoon      Premium                     134   \n",
       "4       Afternoon      Economy                     149   \n",
       "\n",
       "   Historical_Cost_of_Ride  \n",
       "0               284.257273  \n",
       "1               173.874753  \n",
       "2               329.795469  \n",
       "3               470.201232  \n",
       "4               579.681422  "
      ]
     },
     "execution_count": 2,
     "metadata": {},
     "output_type": "execute_result"
    }
   ],
   "source": [
    "df = pd.read_csv(r'C:\\Users\\UNIQUE\\Desktop\\Jupyter\\Project4Reg_dynamic_pricing\\dataset\\dynamic_pricing.csv')\n",
    "df.head()"
   ]
  },
  {
   "cell_type": "code",
   "execution_count": 3,
   "id": "50271216-46f0-4d6e-9d0e-80959c32c6e4",
   "metadata": {},
   "outputs": [
    {
     "data": {
      "text/html": [
       "<div>\n",
       "<style scoped>\n",
       "    .dataframe tbody tr th:only-of-type {\n",
       "        vertical-align: middle;\n",
       "    }\n",
       "\n",
       "    .dataframe tbody tr th {\n",
       "        vertical-align: top;\n",
       "    }\n",
       "\n",
       "    .dataframe thead th {\n",
       "        text-align: right;\n",
       "    }\n",
       "</style>\n",
       "<table border=\"1\" class=\"dataframe\">\n",
       "  <thead>\n",
       "    <tr style=\"text-align: right;\">\n",
       "      <th></th>\n",
       "      <th>Number_of_Riders</th>\n",
       "      <th>Number_of_Drivers</th>\n",
       "      <th>Number_of_Past_Rides</th>\n",
       "      <th>Average_Ratings</th>\n",
       "      <th>Expected_Ride_Duration</th>\n",
       "      <th>Historical_Cost_of_Ride</th>\n",
       "    </tr>\n",
       "  </thead>\n",
       "  <tbody>\n",
       "    <tr>\n",
       "      <th>count</th>\n",
       "      <td>1000.000000</td>\n",
       "      <td>1000.000000</td>\n",
       "      <td>1000.000000</td>\n",
       "      <td>1000.000000</td>\n",
       "      <td>1000.00000</td>\n",
       "      <td>1000.000000</td>\n",
       "    </tr>\n",
       "    <tr>\n",
       "      <th>mean</th>\n",
       "      <td>60.372000</td>\n",
       "      <td>27.076000</td>\n",
       "      <td>50.031000</td>\n",
       "      <td>4.257220</td>\n",
       "      <td>99.58800</td>\n",
       "      <td>372.502623</td>\n",
       "    </tr>\n",
       "    <tr>\n",
       "      <th>std</th>\n",
       "      <td>23.701506</td>\n",
       "      <td>19.068346</td>\n",
       "      <td>29.313774</td>\n",
       "      <td>0.435781</td>\n",
       "      <td>49.16545</td>\n",
       "      <td>187.158756</td>\n",
       "    </tr>\n",
       "    <tr>\n",
       "      <th>min</th>\n",
       "      <td>20.000000</td>\n",
       "      <td>5.000000</td>\n",
       "      <td>0.000000</td>\n",
       "      <td>3.500000</td>\n",
       "      <td>10.00000</td>\n",
       "      <td>25.993449</td>\n",
       "    </tr>\n",
       "    <tr>\n",
       "      <th>25%</th>\n",
       "      <td>40.000000</td>\n",
       "      <td>11.000000</td>\n",
       "      <td>25.000000</td>\n",
       "      <td>3.870000</td>\n",
       "      <td>59.75000</td>\n",
       "      <td>221.365202</td>\n",
       "    </tr>\n",
       "    <tr>\n",
       "      <th>50%</th>\n",
       "      <td>60.000000</td>\n",
       "      <td>22.000000</td>\n",
       "      <td>51.000000</td>\n",
       "      <td>4.270000</td>\n",
       "      <td>102.00000</td>\n",
       "      <td>362.019426</td>\n",
       "    </tr>\n",
       "    <tr>\n",
       "      <th>75%</th>\n",
       "      <td>81.000000</td>\n",
       "      <td>38.000000</td>\n",
       "      <td>75.000000</td>\n",
       "      <td>4.632500</td>\n",
       "      <td>143.00000</td>\n",
       "      <td>510.497504</td>\n",
       "    </tr>\n",
       "    <tr>\n",
       "      <th>max</th>\n",
       "      <td>100.000000</td>\n",
       "      <td>89.000000</td>\n",
       "      <td>100.000000</td>\n",
       "      <td>5.000000</td>\n",
       "      <td>180.00000</td>\n",
       "      <td>836.116419</td>\n",
       "    </tr>\n",
       "  </tbody>\n",
       "</table>\n",
       "</div>"
      ],
      "text/plain": [
       "       Number_of_Riders  Number_of_Drivers  Number_of_Past_Rides  \\\n",
       "count       1000.000000        1000.000000           1000.000000   \n",
       "mean          60.372000          27.076000             50.031000   \n",
       "std           23.701506          19.068346             29.313774   \n",
       "min           20.000000           5.000000              0.000000   \n",
       "25%           40.000000          11.000000             25.000000   \n",
       "50%           60.000000          22.000000             51.000000   \n",
       "75%           81.000000          38.000000             75.000000   \n",
       "max          100.000000          89.000000            100.000000   \n",
       "\n",
       "       Average_Ratings  Expected_Ride_Duration  Historical_Cost_of_Ride  \n",
       "count      1000.000000              1000.00000              1000.000000  \n",
       "mean          4.257220                99.58800               372.502623  \n",
       "std           0.435781                49.16545               187.158756  \n",
       "min           3.500000                10.00000                25.993449  \n",
       "25%           3.870000                59.75000               221.365202  \n",
       "50%           4.270000               102.00000               362.019426  \n",
       "75%           4.632500               143.00000               510.497504  \n",
       "max           5.000000               180.00000               836.116419  "
      ]
     },
     "execution_count": 3,
     "metadata": {},
     "output_type": "execute_result"
    }
   ],
   "source": [
    "df.describe()"
   ]
  },
  {
   "cell_type": "code",
   "execution_count": 4,
   "id": "642ce834-be83-4e3f-8aee-45a67dd2aa77",
   "metadata": {},
   "outputs": [
    {
     "name": "stdout",
     "output_type": "stream",
     "text": [
      "<class 'pandas.core.frame.DataFrame'>\n",
      "RangeIndex: 1000 entries, 0 to 999\n",
      "Data columns (total 10 columns):\n",
      " #   Column                   Non-Null Count  Dtype  \n",
      "---  ------                   --------------  -----  \n",
      " 0   Number_of_Riders         1000 non-null   int64  \n",
      " 1   Number_of_Drivers        1000 non-null   int64  \n",
      " 2   Location_Category        1000 non-null   object \n",
      " 3   Customer_Loyalty_Status  1000 non-null   object \n",
      " 4   Number_of_Past_Rides     1000 non-null   int64  \n",
      " 5   Average_Ratings          1000 non-null   float64\n",
      " 6   Time_of_Booking          1000 non-null   object \n",
      " 7   Vehicle_Type             1000 non-null   object \n",
      " 8   Expected_Ride_Duration   1000 non-null   int64  \n",
      " 9   Historical_Cost_of_Ride  1000 non-null   float64\n",
      "dtypes: float64(2), int64(4), object(4)\n",
      "memory usage: 78.3+ KB\n"
     ]
    }
   ],
   "source": [
    "df.info()"
   ]
  },
  {
   "cell_type": "code",
   "execution_count": 5,
   "id": "37203870-c5f4-4027-8def-cdbe016e3ace",
   "metadata": {},
   "outputs": [
    {
     "data": {
      "text/plain": [
       "Number_of_Riders           0\n",
       "Number_of_Drivers          0\n",
       "Location_Category          0\n",
       "Customer_Loyalty_Status    0\n",
       "Number_of_Past_Rides       0\n",
       "Average_Ratings            0\n",
       "Time_of_Booking            0\n",
       "Vehicle_Type               0\n",
       "Expected_Ride_Duration     0\n",
       "Historical_Cost_of_Ride    0\n",
       "dtype: int64"
      ]
     },
     "execution_count": 5,
     "metadata": {},
     "output_type": "execute_result"
    }
   ],
   "source": [
    "df.isnull().sum()"
   ]
  },
  {
   "cell_type": "markdown",
   "id": "f36dd20c-bf59-406a-a660-d5ace16e8c2d",
   "metadata": {},
   "source": [
    "- datasets does not have null values"
   ]
  },
  {
   "cell_type": "markdown",
   "id": "f07c036c-dada-4623-bc3d-83625203984f",
   "metadata": {},
   "source": [
    "### Let do 5 checks\n",
    "1. null values\n",
    "2. outliers\n",
    "3. data types\n",
    "4. duplicates\n",
    "5. "
   ]
  },
  {
   "cell_type": "markdown",
   "id": "0fe8b676-bbc4-43d0-8e4e-b1eef94ba3d8",
   "metadata": {},
   "source": [
    "#### 1. Null Values\n"
   ]
  },
  {
   "cell_type": "code",
   "execution_count": 6,
   "id": "f36f8a6c-a1e4-4143-8532-a1adb4d7711d",
   "metadata": {},
   "outputs": [
    {
     "data": {
      "text/plain": [
       "Number_of_Riders           0\n",
       "Number_of_Drivers          0\n",
       "Location_Category          0\n",
       "Customer_Loyalty_Status    0\n",
       "Number_of_Past_Rides       0\n",
       "Average_Ratings            0\n",
       "Time_of_Booking            0\n",
       "Vehicle_Type               0\n",
       "Expected_Ride_Duration     0\n",
       "Historical_Cost_of_Ride    0\n",
       "dtype: int64"
      ]
     },
     "execution_count": 6,
     "metadata": {},
     "output_type": "execute_result"
    }
   ],
   "source": [
    "df.isnull().sum()"
   ]
  },
  {
   "cell_type": "markdown",
   "id": "82602a6d-f17c-442d-88fb-f680629b9073",
   "metadata": {},
   "source": [
    "- NO null values present"
   ]
  },
  {
   "cell_type": "markdown",
   "id": "362471c0-fce4-4982-92c4-ece95d117ad3",
   "metadata": {},
   "source": [
    "#### 2. Duplicates\n"
   ]
  },
  {
   "cell_type": "code",
   "execution_count": 7,
   "id": "0ba3bb94-904e-44ad-9c5a-345a6d2b143f",
   "metadata": {},
   "outputs": [
    {
     "data": {
      "text/plain": [
       "0"
      ]
     },
     "execution_count": 7,
     "metadata": {},
     "output_type": "execute_result"
    }
   ],
   "source": [
    "df.duplicated().sum()"
   ]
  },
  {
   "cell_type": "markdown",
   "id": "b37f0a77-f226-40cb-9177-b00b25819e47",
   "metadata": {},
   "source": [
    "- No duplicate values are present"
   ]
  },
  {
   "cell_type": "markdown",
   "id": "58a25ad9-2ee0-4ba8-bd69-4582e360bf83",
   "metadata": {},
   "source": [
    "#### 3 Data Types"
   ]
  },
  {
   "cell_type": "markdown",
   "id": "8fda6792-aaeb-43b5-a50e-f2119bb9393c",
   "metadata": {},
   "source": [
    "convert each feature to suitable numerical feature"
   ]
  },
  {
   "cell_type": "code",
   "execution_count": 8,
   "id": "e37ae5c1-9bd5-4ff6-9ed7-3c86f1d8fbef",
   "metadata": {},
   "outputs": [
    {
     "data": {
      "text/plain": [
       "Index(['Number_of_Riders', 'Number_of_Drivers', 'Location_Category',\n",
       "       'Customer_Loyalty_Status', 'Number_of_Past_Rides', 'Average_Ratings',\n",
       "       'Time_of_Booking', 'Vehicle_Type', 'Expected_Ride_Duration',\n",
       "       'Historical_Cost_of_Ride'],\n",
       "      dtype='object')"
      ]
     },
     "execution_count": 8,
     "metadata": {},
     "output_type": "execute_result"
    }
   ],
   "source": [
    "df.columns"
   ]
  },
  {
   "cell_type": "code",
   "execution_count": 9,
   "id": "4919f895-921f-4acd-921e-fc4ba8454a19",
   "metadata": {},
   "outputs": [
    {
     "data": {
      "text/plain": [
       "dtype('int64')"
      ]
     },
     "execution_count": 9,
     "metadata": {},
     "output_type": "execute_result"
    }
   ],
   "source": [
    "df['Number_of_Riders'].dtypes"
   ]
  },
  {
   "cell_type": "code",
   "execution_count": 10,
   "id": "6586ca90-aca3-4f1e-a81f-154256dc973c",
   "metadata": {},
   "outputs": [
    {
     "data": {
      "text/plain": [
       "['Location_Category',\n",
       " 'Customer_Loyalty_Status',\n",
       " 'Time_of_Booking',\n",
       " 'Vehicle_Type']"
      ]
     },
     "execution_count": 10,
     "metadata": {},
     "output_type": "execute_result"
    }
   ],
   "source": [
    "obj_feature=[i for i in df.columns if df[i].dtypes == 'O']\n",
    "obj_feature"
   ]
  },
  {
   "cell_type": "code",
   "execution_count": 11,
   "id": "245b513a-b076-4422-9bc6-11913abb1cc2",
   "metadata": {},
   "outputs": [
    {
     "data": {
      "text/plain": [
       "Location_Category\n",
       "Urban       346\n",
       "Rural       332\n",
       "Suburban    322\n",
       "Name: count, dtype: int64"
      ]
     },
     "execution_count": 11,
     "metadata": {},
     "output_type": "execute_result"
    }
   ],
   "source": [
    "df['Location_Category'].value_counts()"
   ]
  },
  {
   "cell_type": "code",
   "execution_count": 12,
   "id": "85219d6b-cc3c-439e-ba7c-5457ae9c6f84",
   "metadata": {},
   "outputs": [
    {
     "data": {
      "text/plain": [
       "Customer_Loyalty_Status\n",
       "Silver     367\n",
       "Regular    320\n",
       "Gold       313\n",
       "Name: count, dtype: int64"
      ]
     },
     "execution_count": 12,
     "metadata": {},
     "output_type": "execute_result"
    }
   ],
   "source": [
    "df['Customer_Loyalty_Status'].value_counts()"
   ]
  },
  {
   "cell_type": "code",
   "execution_count": 13,
   "id": "8349940b-10a4-481f-b19e-77d4ddb7d3d3",
   "metadata": {},
   "outputs": [
    {
     "data": {
      "text/plain": [
       "Time_of_Booking\n",
       "Night        276\n",
       "Afternoon    247\n",
       "Morning      246\n",
       "Evening      231\n",
       "Name: count, dtype: int64"
      ]
     },
     "execution_count": 13,
     "metadata": {},
     "output_type": "execute_result"
    }
   ],
   "source": [
    "df['Time_of_Booking'].value_counts()"
   ]
  },
  {
   "cell_type": "code",
   "execution_count": 14,
   "id": "bac1de85-d69a-4bac-a108-98a664453939",
   "metadata": {},
   "outputs": [
    {
     "data": {
      "text/plain": [
       "Vehicle_Type\n",
       "Premium    522\n",
       "Economy    478\n",
       "Name: count, dtype: int64"
      ]
     },
     "execution_count": 14,
     "metadata": {},
     "output_type": "execute_result"
    }
   ],
   "source": [
    "df['Vehicle_Type'].value_counts()"
   ]
  },
  {
   "cell_type": "markdown",
   "id": "a57ee966-4469-4d1d-bb0a-80c8540d4b53",
   "metadata": {},
   "source": [
    "<b>Let see correaltion between numeric feature"
   ]
  },
  {
   "cell_type": "code",
   "execution_count": 15,
   "id": "bd1ce4dd-2909-4b27-a278-5ae5690f3246",
   "metadata": {},
   "outputs": [
    {
     "data": {
      "text/html": [
       "<div>\n",
       "<style scoped>\n",
       "    .dataframe tbody tr th:only-of-type {\n",
       "        vertical-align: middle;\n",
       "    }\n",
       "\n",
       "    .dataframe tbody tr th {\n",
       "        vertical-align: top;\n",
       "    }\n",
       "\n",
       "    .dataframe thead th {\n",
       "        text-align: right;\n",
       "    }\n",
       "</style>\n",
       "<table border=\"1\" class=\"dataframe\">\n",
       "  <thead>\n",
       "    <tr style=\"text-align: right;\">\n",
       "      <th></th>\n",
       "      <th>Number_of_Riders</th>\n",
       "      <th>Number_of_Drivers</th>\n",
       "      <th>Number_of_Past_Rides</th>\n",
       "      <th>Average_Ratings</th>\n",
       "      <th>Expected_Ride_Duration</th>\n",
       "      <th>Historical_Cost_of_Ride</th>\n",
       "    </tr>\n",
       "  </thead>\n",
       "  <tbody>\n",
       "    <tr>\n",
       "      <th>Number_of_Riders</th>\n",
       "      <td>1.000000</td>\n",
       "      <td>0.627016</td>\n",
       "      <td>0.029265</td>\n",
       "      <td>0.008572</td>\n",
       "      <td>-0.015856</td>\n",
       "      <td>0.005826</td>\n",
       "    </tr>\n",
       "    <tr>\n",
       "      <th>Number_of_Drivers</th>\n",
       "      <td>0.627016</td>\n",
       "      <td>1.000000</td>\n",
       "      <td>0.039660</td>\n",
       "      <td>0.041204</td>\n",
       "      <td>-0.024418</td>\n",
       "      <td>0.017082</td>\n",
       "    </tr>\n",
       "    <tr>\n",
       "      <th>Number_of_Past_Rides</th>\n",
       "      <td>0.029265</td>\n",
       "      <td>0.039660</td>\n",
       "      <td>1.000000</td>\n",
       "      <td>-0.064734</td>\n",
       "      <td>0.030679</td>\n",
       "      <td>0.035859</td>\n",
       "    </tr>\n",
       "    <tr>\n",
       "      <th>Average_Ratings</th>\n",
       "      <td>0.008572</td>\n",
       "      <td>0.041204</td>\n",
       "      <td>-0.064734</td>\n",
       "      <td>1.000000</td>\n",
       "      <td>-0.016968</td>\n",
       "      <td>-0.001063</td>\n",
       "    </tr>\n",
       "    <tr>\n",
       "      <th>Expected_Ride_Duration</th>\n",
       "      <td>-0.015856</td>\n",
       "      <td>-0.024418</td>\n",
       "      <td>0.030679</td>\n",
       "      <td>-0.016968</td>\n",
       "      <td>1.000000</td>\n",
       "      <td>0.927547</td>\n",
       "    </tr>\n",
       "    <tr>\n",
       "      <th>Historical_Cost_of_Ride</th>\n",
       "      <td>0.005826</td>\n",
       "      <td>0.017082</td>\n",
       "      <td>0.035859</td>\n",
       "      <td>-0.001063</td>\n",
       "      <td>0.927547</td>\n",
       "      <td>1.000000</td>\n",
       "    </tr>\n",
       "  </tbody>\n",
       "</table>\n",
       "</div>"
      ],
      "text/plain": [
       "                         Number_of_Riders  Number_of_Drivers  \\\n",
       "Number_of_Riders                 1.000000           0.627016   \n",
       "Number_of_Drivers                0.627016           1.000000   \n",
       "Number_of_Past_Rides             0.029265           0.039660   \n",
       "Average_Ratings                  0.008572           0.041204   \n",
       "Expected_Ride_Duration          -0.015856          -0.024418   \n",
       "Historical_Cost_of_Ride          0.005826           0.017082   \n",
       "\n",
       "                         Number_of_Past_Rides  Average_Ratings  \\\n",
       "Number_of_Riders                     0.029265         0.008572   \n",
       "Number_of_Drivers                    0.039660         0.041204   \n",
       "Number_of_Past_Rides                 1.000000        -0.064734   \n",
       "Average_Ratings                     -0.064734         1.000000   \n",
       "Expected_Ride_Duration               0.030679        -0.016968   \n",
       "Historical_Cost_of_Ride              0.035859        -0.001063   \n",
       "\n",
       "                         Expected_Ride_Duration  Historical_Cost_of_Ride  \n",
       "Number_of_Riders                      -0.015856                 0.005826  \n",
       "Number_of_Drivers                     -0.024418                 0.017082  \n",
       "Number_of_Past_Rides                   0.030679                 0.035859  \n",
       "Average_Ratings                       -0.016968                -0.001063  \n",
       "Expected_Ride_Duration                 1.000000                 0.927547  \n",
       "Historical_Cost_of_Ride                0.927547                 1.000000  "
      ]
     },
     "execution_count": 15,
     "metadata": {},
     "output_type": "execute_result"
    }
   ],
   "source": [
    "df.drop(columns= obj_feature).corr()"
   ]
  },
  {
   "cell_type": "code",
   "execution_count": 16,
   "id": "641f4239-ee32-4858-9692-b4ba89520d50",
   "metadata": {},
   "outputs": [
    {
     "data": {
      "text/plain": [
       "<Axes: >"
      ]
     },
     "execution_count": 16,
     "metadata": {},
     "output_type": "execute_result"
    },
    {
     "data": {
      "image/png": "[encoded data removed]",
      "text/plain": [
       "<Figure size 640x480 with 2 Axes>"
      ]
     },
     "metadata": {},
     "output_type": "display_data"
    }
   ],
   "source": [
    "sns.heatmap(df.drop(columns= obj_feature).corr(),annot =True)"
   ]
  },
  {
   "cell_type": "markdown",
   "id": "b41d866e-5ef1-40e3-8eca-b39bc071aa90",
   "metadata": {},
   "source": [
    "- There is good relation between Number of Riders and number of drivers .\n",
    "- Expected Ride Duration and  Historical Cost of Ride are highly correlated ."
   ]
  },
  {
   "cell_type": "code",
   "execution_count": 17,
   "id": "f202d707-b79b-4cdd-baec-33a0b7b9d92f",
   "metadata": {},
   "outputs": [
    {
     "data": {
      "text/plain": [
       "<Axes: xlabel='Location_Category', ylabel='count'>"
      ]
     },
     "execution_count": 17,
     "metadata": {},
     "output_type": "execute_result"
    },
    {
     "data": {
      "image/png": "[encoded data removed]",
      "text/plain": [
       "<Figure size 640x480 with 1 Axes>"
      ]
     },
     "metadata": {},
     "output_type": "display_data"
    }
   ],
   "source": [
    "sns.countplot(x = df['Location_Category'])"
   ]
  },
  {
   "cell_type": "code",
   "execution_count": 18,
   "id": "20dc85a3-3858-495b-91cc-9f34d6b5dcbf",
   "metadata": {},
   "outputs": [
    {
     "data": {
      "text/plain": [
       "['Location_Category',\n",
       " 'Customer_Loyalty_Status',\n",
       " 'Time_of_Booking',\n",
       " 'Vehicle_Type']"
      ]
     },
     "execution_count": 18,
     "metadata": {},
     "output_type": "execute_result"
    }
   ],
   "source": [
    "['Location_Category',\n",
    " 'Customer_Loyalty_Status',\n",
    " 'Time_of_Booking',\n",
    " 'Vehicle_Type']"
   ]
  },
  {
   "cell_type": "code",
   "execution_count": 19,
   "id": "0afa087d-52e1-41cc-958d-82ccfaf05b6b",
   "metadata": {},
   "outputs": [
    {
     "data": {
      "text/plain": [
       "Index(['Number_of_Riders', 'Number_of_Drivers', 'Location_Category',\n",
       "       'Customer_Loyalty_Status', 'Number_of_Past_Rides', 'Average_Ratings',\n",
       "       'Time_of_Booking', 'Vehicle_Type', 'Expected_Ride_Duration',\n",
       "       'Historical_Cost_of_Ride'],\n",
       "      dtype='object')"
      ]
     },
     "execution_count": 19,
     "metadata": {},
     "output_type": "execute_result"
    }
   ],
   "source": [
    "df.columns"
   ]
  },
  {
   "cell_type": "markdown",
   "id": "83a30b87-8227-491f-a004-719301f50519",
   "metadata": {},
   "source": [
    "#### 4. Check for Outliers"
   ]
  },
  {
   "cell_type": "code",
   "execution_count": 20,
   "id": "f2bbd62c-e437-409f-801b-8de987e47e3c",
   "metadata": {},
   "outputs": [
    {
     "data": {
      "text/plain": [
       "<Axes: xlabel='Average_Ratings'>"
      ]
     },
     "execution_count": 20,
     "metadata": {},
     "output_type": "execute_result"
    },
    {
     "data": {
      "image/png": "[encoded data removed]",
      "text/plain": [
       "<Figure size 2500x600 with 7 Axes>"
      ]
     },
     "metadata": {},
     "output_type": "display_data"
    }
   ],
   "source": [
    "plt.subplots(1,3,figsize  =(25,6))\n",
    "plt.subplot(141)\n",
    "sns.boxplot(data =df,x = 'Number_of_Riders')\n",
    "plt.subplot(142)\n",
    "sns.boxplot(data =df,x = 'Number_of_Drivers')\n",
    "plt.subplot(143)\n",
    "sns.boxplot(data =df,x = 'Number_of_Past_Rides')\n",
    "plt.subplot(144)\n",
    "sns.boxplot(data = df, x = 'Average_Ratings')\n"
   ]
  },
  {
   "cell_type": "code",
   "execution_count": 21,
   "id": "b8d0b4dc-b0a4-4247-89d8-62933424d297",
   "metadata": {},
   "outputs": [
    {
     "data": {
      "text/plain": [
       "<Axes: xlabel='Expected_Ride_Duration'>"
      ]
     },
     "execution_count": 21,
     "metadata": {},
     "output_type": "execute_result"
    },
    {
     "data": {
      "image/png": "[encoded data removed]",
      "text/plain": [
       "<Figure size 2500x600 with 4 Axes>"
      ]
     },
     "metadata": {},
     "output_type": "display_data"
    }
   ],
   "source": [
    "plt.subplots(1,3,figsize = (25,6))\n",
    "plt.subplot(141)\n",
    "sns.boxplot(data = df,x ='Expected_Ride_Duration')\n"
   ]
  },
  {
   "cell_type": "code",
   "execution_count": 22,
   "id": "af562237-cbca-4a84-85ec-21ff8895e8d0",
   "metadata": {},
   "outputs": [
    {
     "data": {
      "text/plain": [
       "<Axes: xlabel='Expected_Ride_Duration', ylabel='Historical_Cost_of_Ride'>"
      ]
     },
     "execution_count": 22,
     "metadata": {},
     "output_type": "execute_result"
    },
    {
     "data": {
      "image/png": "[encoded data removed]",
      "text/plain": [
       "<Figure size 640x480 with 1 Axes>"
      ]
     },
     "metadata": {},
     "output_type": "display_data"
    }
   ],
   "source": [
    "sns.scatterplot(x = df['Expected_Ride_Duration'],y = df['Historical_Cost_of_Ride'],hue=df['Location_Category'])"
   ]
  },
  {
   "cell_type": "markdown",
   "id": "ced549ac-d29b-481d-9dc7-1f6cd4d4ba67",
   "metadata": {},
   "source": [
    "## Feture Engineering"
   ]
  },
  {
   "cell_type": "markdown",
   "id": "f3a5c7cb-3a27-46ac-a272-7676cd58ac4b",
   "metadata": {},
   "source": [
    "### Turn categorical features to numerical"
   ]
  },
  {
   "cell_type": "code",
   "execution_count": 23,
   "id": "1cb9ef84-0691-49d5-b7d5-55a99489a6ac",
   "metadata": {},
   "outputs": [
    {
     "data": {
      "text/plain": [
       "['Location_Category',\n",
       " 'Customer_Loyalty_Status',\n",
       " 'Time_of_Booking',\n",
       " 'Vehicle_Type']"
      ]
     },
     "execution_count": 23,
     "metadata": {},
     "output_type": "execute_result"
    }
   ],
   "source": [
    "obj_feature"
   ]
  },
  {
   "cell_type": "code",
   "execution_count": 24,
   "id": "99add800-998c-479e-9457-6a47b7fce64a",
   "metadata": {},
   "outputs": [],
   "source": [
    "from sklearn.preprocessing import OrdinalEncoder,OneHotEncoder"
   ]
  },
  {
   "cell_type": "code",
   "execution_count": 25,
   "id": "f37f6904-3711-4803-9a33-07451b580abf",
   "metadata": {},
   "outputs": [],
   "source": [
    "# Ordinal encoder is used for Ordinal data,therefore we will use LabelEncoder for data that have order,rank.\n"
   ]
  },
  {
   "cell_type": "code",
   "execution_count": 26,
   "id": "0b255a5a-5ca0-4046-880b-729faba7d4b3",
   "metadata": {},
   "outputs": [],
   "source": [
    "# One hot encoder is used for Nominal data,that does not have any order\n"
   ]
  },
  {
   "cell_type": "code",
   "execution_count": 27,
   "id": "ae6e7aba-1e03-4815-8f1e-2ca7c97b75ab",
   "metadata": {},
   "outputs": [
    {
     "data": {
      "text/plain": [
       "array(['Urban', 'Suburban', 'Rural'], dtype=object)"
      ]
     },
     "execution_count": 27,
     "metadata": {},
     "output_type": "execute_result"
    }
   ],
   "source": [
    "df['Location_Category'].unique()"
   ]
  },
  {
   "cell_type": "code",
   "execution_count": 28,
   "id": "c1be3c33-aa84-48da-9475-18a1f2beb73c",
   "metadata": {},
   "outputs": [],
   "source": [
    "# Location category has some order Rural -> Suburban -> Urban\n",
    "# create copy of df ,to do feature engineering"
   ]
  },
  {
   "cell_type": "code",
   "execution_count": 29,
   "id": "a1a5bd16-f2af-4f62-bf0c-ee7051bba2bc",
   "metadata": {},
   "outputs": [
    {
     "data": {
      "text/html": [
       "<div>\n",
       "<style scoped>\n",
       "    .dataframe tbody tr th:only-of-type {\n",
       "        vertical-align: middle;\n",
       "    }\n",
       "\n",
       "    .dataframe tbody tr th {\n",
       "        vertical-align: top;\n",
       "    }\n",
       "\n",
       "    .dataframe thead th {\n",
       "        text-align: right;\n",
       "    }\n",
       "</style>\n",
       "<table border=\"1\" class=\"dataframe\">\n",
       "  <thead>\n",
       "    <tr style=\"text-align: right;\">\n",
       "      <th></th>\n",
       "      <th>Number_of_Riders</th>\n",
       "      <th>Number_of_Drivers</th>\n",
       "      <th>Location_Category</th>\n",
       "      <th>Customer_Loyalty_Status</th>\n",
       "      <th>Number_of_Past_Rides</th>\n",
       "      <th>Average_Ratings</th>\n",
       "      <th>Time_of_Booking</th>\n",
       "      <th>Vehicle_Type</th>\n",
       "      <th>Expected_Ride_Duration</th>\n",
       "      <th>Historical_Cost_of_Ride</th>\n",
       "    </tr>\n",
       "  </thead>\n",
       "  <tbody>\n",
       "    <tr>\n",
       "      <th>0</th>\n",
       "      <td>90</td>\n",
       "      <td>45</td>\n",
       "      <td>Urban</td>\n",
       "      <td>Silver</td>\n",
       "      <td>13</td>\n",
       "      <td>4.47</td>\n",
       "      <td>Night</td>\n",
       "      <td>Premium</td>\n",
       "      <td>90</td>\n",
       "      <td>284.257273</td>\n",
       "    </tr>\n",
       "    <tr>\n",
       "      <th>1</th>\n",
       "      <td>58</td>\n",
       "      <td>39</td>\n",
       "      <td>Suburban</td>\n",
       "      <td>Silver</td>\n",
       "      <td>72</td>\n",
       "      <td>4.06</td>\n",
       "      <td>Evening</td>\n",
       "      <td>Economy</td>\n",
       "      <td>43</td>\n",
       "      <td>173.874753</td>\n",
       "    </tr>\n",
       "    <tr>\n",
       "      <th>2</th>\n",
       "      <td>42</td>\n",
       "      <td>31</td>\n",
       "      <td>Rural</td>\n",
       "      <td>Silver</td>\n",
       "      <td>0</td>\n",
       "      <td>3.99</td>\n",
       "      <td>Afternoon</td>\n",
       "      <td>Premium</td>\n",
       "      <td>76</td>\n",
       "      <td>329.795469</td>\n",
       "    </tr>\n",
       "  </tbody>\n",
       "</table>\n",
       "</div>"
      ],
      "text/plain": [
       "   Number_of_Riders  Number_of_Drivers Location_Category  \\\n",
       "0                90                 45             Urban   \n",
       "1                58                 39          Suburban   \n",
       "2                42                 31             Rural   \n",
       "\n",
       "  Customer_Loyalty_Status  Number_of_Past_Rides  Average_Ratings  \\\n",
       "0                  Silver                    13             4.47   \n",
       "1                  Silver                    72             4.06   \n",
       "2                  Silver                     0             3.99   \n",
       "\n",
       "  Time_of_Booking Vehicle_Type  Expected_Ride_Duration  \\\n",
       "0           Night      Premium                      90   \n",
       "1         Evening      Economy                      43   \n",
       "2       Afternoon      Premium                      76   \n",
       "\n",
       "   Historical_Cost_of_Ride  \n",
       "0               284.257273  \n",
       "1               173.874753  \n",
       "2               329.795469  "
      ]
     },
     "execution_count": 29,
     "metadata": {},
     "output_type": "execute_result"
    }
   ],
   "source": [
    "df_copy = df.copy()\n",
    "df_copy.head(3)"
   ]
  },
  {
   "cell_type": "code",
   "execution_count": 30,
   "id": "10a9212d-e272-463e-8a53-7e52dae78a7f",
   "metadata": {},
   "outputs": [],
   "source": [
    "# let encoder Location category\n",
    "ordinalencoder = OrdinalEncoder(categories = [['Rural','Suburban','Urban']])"
   ]
  },
  {
   "cell_type": "code",
   "execution_count": 31,
   "id": "4fcdca36-dc51-436e-8d66-1be9d7eca42d",
   "metadata": {},
   "outputs": [],
   "source": [
    "df_copy['Location_Category_encode'] = ordinalencoder.fit_transform(df_copy[['Location_Category']])"
   ]
  },
  {
   "cell_type": "code",
   "execution_count": null,
   "id": "49f6fac6-9562-4511-8663-1b587fc38bfc",
   "metadata": {},
   "outputs": [],
   "source": []
  },
  {
   "cell_type": "code",
   "execution_count": 32,
   "id": "7502445c-6d6a-4c0f-906b-ca0ca537bae5",
   "metadata": {},
   "outputs": [
    {
     "data": {
      "text/plain": [
       "array(['Silver', 'Regular', 'Gold'], dtype=object)"
      ]
     },
     "execution_count": 32,
     "metadata": {},
     "output_type": "execute_result"
    }
   ],
   "source": [
    "# column : 'Customer_Loyalty_Status'\n",
    "df_copy['Customer_Loyalty_Status'].unique()"
   ]
  },
  {
   "cell_type": "code",
   "execution_count": 33,
   "id": "7dcbae1a-2ae0-4f02-a6c2-19e4d86e438a",
   "metadata": {},
   "outputs": [],
   "source": [
    "#'Customer_Loyalty_Status' also have order Regular -> Silver -> Gold\n",
    "ordinalencoder = OrdinalEncoder(categories = [['Regular','Silver','Gold']])\n",
    "df_copy['Customer_Loyalty_Status_encode'] = ordinalencoder.fit_transform(df_copy[['Customer_Loyalty_Status']])"
   ]
  },
  {
   "cell_type": "code",
   "execution_count": 34,
   "id": "372276a4-8465-4cf2-80ed-7f1216b38011",
   "metadata": {},
   "outputs": [
    {
     "data": {
      "text/plain": [
       "array(['Night', 'Evening', 'Afternoon', 'Morning'], dtype=object)"
      ]
     },
     "execution_count": 34,
     "metadata": {},
     "output_type": "execute_result"
    }
   ],
   "source": [
    "# Time of Booking\n",
    "df_copy['Time_of_Booking'].unique()"
   ]
  },
  {
   "cell_type": "code",
   "execution_count": 35,
   "id": "1f65512d-2d89-4e0b-a7df-6a880b7c3788",
   "metadata": {},
   "outputs": [],
   "source": [
    "from sklearn.preprocessing import LabelEncoder"
   ]
  },
  {
   "cell_type": "code",
   "execution_count": 36,
   "id": "e99ceff8-3902-453e-9e8b-42b0b4243511",
   "metadata": {},
   "outputs": [],
   "source": [
    "# time of booking is not order .\n"
   ]
  },
  {
   "cell_type": "code",
   "execution_count": 37,
   "id": "e617d7ad-072e-4c4b-8cbe-e21de2a80cdd",
   "metadata": {},
   "outputs": [],
   "source": [
    "onehotencoder= OneHotEncoder(sparse_output = False)\n",
    "encoded_data= onehotencoder.fit_transform(df_copy[['Time_of_Booking']])"
   ]
  },
  {
   "cell_type": "code",
   "execution_count": 38,
   "id": "b7e0d22e-ca10-4020-8266-f090d63feb05",
   "metadata": {},
   "outputs": [],
   "source": [
    "encoded_data = pd.DataFrame(encoded_data,columns = onehotencoder.get_feature_names_out(['Time_of_Booking']))"
   ]
  },
  {
   "cell_type": "code",
   "execution_count": 39,
   "id": "3d1789e3-c5cf-4d9a-8dd2-a9245bf98286",
   "metadata": {},
   "outputs": [
    {
     "data": {
      "text/html": [
       "<div>\n",
       "<style scoped>\n",
       "    .dataframe tbody tr th:only-of-type {\n",
       "        vertical-align: middle;\n",
       "    }\n",
       "\n",
       "    .dataframe tbody tr th {\n",
       "        vertical-align: top;\n",
       "    }\n",
       "\n",
       "    .dataframe thead th {\n",
       "        text-align: right;\n",
       "    }\n",
       "</style>\n",
       "<table border=\"1\" class=\"dataframe\">\n",
       "  <thead>\n",
       "    <tr style=\"text-align: right;\">\n",
       "      <th></th>\n",
       "      <th>Number_of_Riders</th>\n",
       "      <th>Number_of_Drivers</th>\n",
       "      <th>Location_Category</th>\n",
       "      <th>Customer_Loyalty_Status</th>\n",
       "      <th>Number_of_Past_Rides</th>\n",
       "      <th>Average_Ratings</th>\n",
       "      <th>Time_of_Booking</th>\n",
       "      <th>Vehicle_Type</th>\n",
       "      <th>Expected_Ride_Duration</th>\n",
       "      <th>Historical_Cost_of_Ride</th>\n",
       "      <th>Location_Category_encode</th>\n",
       "      <th>Customer_Loyalty_Status_encode</th>\n",
       "      <th>Time_of_Booking_Afternoon</th>\n",
       "      <th>Time_of_Booking_Evening</th>\n",
       "      <th>Time_of_Booking_Morning</th>\n",
       "      <th>Time_of_Booking_Night</th>\n",
       "    </tr>\n",
       "  </thead>\n",
       "  <tbody>\n",
       "    <tr>\n",
       "      <th>0</th>\n",
       "      <td>90</td>\n",
       "      <td>45</td>\n",
       "      <td>Urban</td>\n",
       "      <td>Silver</td>\n",
       "      <td>13</td>\n",
       "      <td>4.47</td>\n",
       "      <td>Night</td>\n",
       "      <td>Premium</td>\n",
       "      <td>90</td>\n",
       "      <td>284.257273</td>\n",
       "      <td>2.0</td>\n",
       "      <td>1.0</td>\n",
       "      <td>0.0</td>\n",
       "      <td>0.0</td>\n",
       "      <td>0.0</td>\n",
       "      <td>1.0</td>\n",
       "    </tr>\n",
       "    <tr>\n",
       "      <th>1</th>\n",
       "      <td>58</td>\n",
       "      <td>39</td>\n",
       "      <td>Suburban</td>\n",
       "      <td>Silver</td>\n",
       "      <td>72</td>\n",
       "      <td>4.06</td>\n",
       "      <td>Evening</td>\n",
       "      <td>Economy</td>\n",
       "      <td>43</td>\n",
       "      <td>173.874753</td>\n",
       "      <td>1.0</td>\n",
       "      <td>1.0</td>\n",
       "      <td>0.0</td>\n",
       "      <td>1.0</td>\n",
       "      <td>0.0</td>\n",
       "      <td>0.0</td>\n",
       "    </tr>\n",
       "    <tr>\n",
       "      <th>2</th>\n",
       "      <td>42</td>\n",
       "      <td>31</td>\n",
       "      <td>Rural</td>\n",
       "      <td>Silver</td>\n",
       "      <td>0</td>\n",
       "      <td>3.99</td>\n",
       "      <td>Afternoon</td>\n",
       "      <td>Premium</td>\n",
       "      <td>76</td>\n",
       "      <td>329.795469</td>\n",
       "      <td>0.0</td>\n",
       "      <td>1.0</td>\n",
       "      <td>1.0</td>\n",
       "      <td>0.0</td>\n",
       "      <td>0.0</td>\n",
       "      <td>0.0</td>\n",
       "    </tr>\n",
       "    <tr>\n",
       "      <th>3</th>\n",
       "      <td>89</td>\n",
       "      <td>28</td>\n",
       "      <td>Rural</td>\n",
       "      <td>Regular</td>\n",
       "      <td>67</td>\n",
       "      <td>4.31</td>\n",
       "      <td>Afternoon</td>\n",
       "      <td>Premium</td>\n",
       "      <td>134</td>\n",
       "      <td>470.201232</td>\n",
       "      <td>0.0</td>\n",
       "      <td>0.0</td>\n",
       "      <td>1.0</td>\n",
       "      <td>0.0</td>\n",
       "      <td>0.0</td>\n",
       "      <td>0.0</td>\n",
       "    </tr>\n",
       "    <tr>\n",
       "      <th>4</th>\n",
       "      <td>78</td>\n",
       "      <td>22</td>\n",
       "      <td>Rural</td>\n",
       "      <td>Regular</td>\n",
       "      <td>74</td>\n",
       "      <td>3.77</td>\n",
       "      <td>Afternoon</td>\n",
       "      <td>Economy</td>\n",
       "      <td>149</td>\n",
       "      <td>579.681422</td>\n",
       "      <td>0.0</td>\n",
       "      <td>0.0</td>\n",
       "      <td>1.0</td>\n",
       "      <td>0.0</td>\n",
       "      <td>0.0</td>\n",
       "      <td>0.0</td>\n",
       "    </tr>\n",
       "  </tbody>\n",
       "</table>\n",
       "</div>"
      ],
      "text/plain": [
       "   Number_of_Riders  Number_of_Drivers Location_Category  \\\n",
       "0                90                 45             Urban   \n",
       "1                58                 39          Suburban   \n",
       "2                42                 31             Rural   \n",
       "3                89                 28             Rural   \n",
       "4                78                 22             Rural   \n",
       "\n",
       "  Customer_Loyalty_Status  Number_of_Past_Rides  Average_Ratings  \\\n",
       "0                  Silver                    13             4.47   \n",
       "1                  Silver                    72             4.06   \n",
       "2                  Silver                     0             3.99   \n",
       "3                 Regular                    67             4.31   \n",
       "4                 Regular                    74             3.77   \n",
       "\n",
       "  Time_of_Booking Vehicle_Type  Expected_Ride_Duration  \\\n",
       "0           Night      Premium                      90   \n",
       "1         Evening      Economy                      43   \n",
       "2       Afternoon      Premium                      76   \n",
       "3       Afternoon      Premium                     134   \n",
       "4       Afternoon      Economy                     149   \n",
       "\n",
       "   Historical_Cost_of_Ride  Location_Category_encode  \\\n",
       "0               284.257273                       2.0   \n",
       "1               173.874753                       1.0   \n",
       "2               329.795469                       0.0   \n",
       "3               470.201232                       0.0   \n",
       "4               579.681422                       0.0   \n",
       "\n",
       "   Customer_Loyalty_Status_encode  Time_of_Booking_Afternoon  \\\n",
       "0                             1.0                        0.0   \n",
       "1                             1.0                        0.0   \n",
       "2                             1.0                        1.0   \n",
       "3                             0.0                        1.0   \n",
       "4                             0.0                        1.0   \n",
       "\n",
       "   Time_of_Booking_Evening  Time_of_Booking_Morning  Time_of_Booking_Night  \n",
       "0                      0.0                      0.0                    1.0  \n",
       "1                      1.0                      0.0                    0.0  \n",
       "2                      0.0                      0.0                    0.0  \n",
       "3                      0.0                      0.0                    0.0  \n",
       "4                      0.0                      0.0                    0.0  "
      ]
     },
     "execution_count": 39,
     "metadata": {},
     "output_type": "execute_result"
    }
   ],
   "source": [
    "df_copy = pd.concat([df_copy,encoded_data],axis = 1)\n",
    "df_copy.head()"
   ]
  },
  {
   "cell_type": "code",
   "execution_count": 40,
   "id": "ed19e304-42c5-4e4c-b284-4e93ea30858b",
   "metadata": {},
   "outputs": [
    {
     "data": {
      "text/plain": [
       "array(['Premium', 'Economy'], dtype=object)"
      ]
     },
     "execution_count": 40,
     "metadata": {},
     "output_type": "execute_result"
    }
   ],
   "source": [
    "df_copy['Vehicle_Type'].unique()"
   ]
  },
  {
   "cell_type": "code",
   "execution_count": 41,
   "id": "b6690053-973b-462b-b340-fbc7176b52fc",
   "metadata": {},
   "outputs": [],
   "source": [
    "labelencoder = LabelEncoder()\n",
    "df_copy['Vehicle_Type_encode'] = labelencoder.fit_transform(df_copy['Vehicle_Type'])"
   ]
  },
  {
   "cell_type": "code",
   "execution_count": 42,
   "id": "a7e068fe-bb4e-414d-b53d-e801e53948c7",
   "metadata": {},
   "outputs": [
    {
     "data": {
      "text/plain": [
       "Index(['Number_of_Riders', 'Number_of_Drivers', 'Location_Category',\n",
       "       'Customer_Loyalty_Status', 'Number_of_Past_Rides', 'Average_Ratings',\n",
       "       'Time_of_Booking', 'Vehicle_Type', 'Expected_Ride_Duration',\n",
       "       'Historical_Cost_of_Ride', 'Location_Category_encode',\n",
       "       'Customer_Loyalty_Status_encode', 'Time_of_Booking_Afternoon',\n",
       "       'Time_of_Booking_Evening', 'Time_of_Booking_Morning',\n",
       "       'Time_of_Booking_Night', 'Vehicle_Type_encode'],\n",
       "      dtype='object')"
      ]
     },
     "execution_count": 42,
     "metadata": {},
     "output_type": "execute_result"
    }
   ],
   "source": [
    "df_copy.columns"
   ]
  },
  {
   "cell_type": "code",
   "execution_count": 43,
   "id": "9c914263-e01b-4c1e-98c1-f215ea58f078",
   "metadata": {},
   "outputs": [],
   "source": [
    "# Now drop object dtype feature as we already have ther encoded columns"
   ]
  },
  {
   "cell_type": "code",
   "execution_count": 44,
   "id": "2290bb2c-4bd9-4168-8433-73507ec062cb",
   "metadata": {},
   "outputs": [
    {
     "data": {
      "text/plain": [
       "Index(['Number_of_Riders', 'Number_of_Drivers', 'Number_of_Past_Rides',\n",
       "       'Average_Ratings', 'Expected_Ride_Duration', 'Historical_Cost_of_Ride',\n",
       "       'Location_Category_encode', 'Customer_Loyalty_Status_encode',\n",
       "       'Time_of_Booking_Afternoon', 'Time_of_Booking_Evening',\n",
       "       'Time_of_Booking_Morning', 'Time_of_Booking_Night',\n",
       "       'Vehicle_Type_encode'],\n",
       "      dtype='object')"
      ]
     },
     "execution_count": 44,
     "metadata": {},
     "output_type": "execute_result"
    }
   ],
   "source": [
    "df_copy = df_copy.drop(columns = obj_feature)\n",
    "df_copy.columns"
   ]
  },
  {
   "cell_type": "code",
   "execution_count": 45,
   "id": "c0610bad-0b5d-4fb9-b5bf-4ce6a4e8a1bb",
   "metadata": {},
   "outputs": [
    {
     "name": "stdout",
     "output_type": "stream",
     "text": [
      "<class 'pandas.core.frame.DataFrame'>\n",
      "RangeIndex: 1000 entries, 0 to 999\n",
      "Data columns (total 13 columns):\n",
      " #   Column                          Non-Null Count  Dtype  \n",
      "---  ------                          --------------  -----  \n",
      " 0   Number_of_Riders                1000 non-null   int64  \n",
      " 1   Number_of_Drivers               1000 non-null   int64  \n",
      " 2   Number_of_Past_Rides            1000 non-null   int64  \n",
      " 3   Average_Ratings                 1000 non-null   float64\n",
      " 4   Expected_Ride_Duration          1000 non-null   int64  \n",
      " 5   Historical_Cost_of_Ride         1000 non-null   float64\n",
      " 6   Location_Category_encode        1000 non-null   float64\n",
      " 7   Customer_Loyalty_Status_encode  1000 non-null   float64\n",
      " 8   Time_of_Booking_Afternoon       1000 non-null   float64\n",
      " 9   Time_of_Booking_Evening         1000 non-null   float64\n",
      " 10  Time_of_Booking_Morning         1000 non-null   float64\n",
      " 11  Time_of_Booking_Night           1000 non-null   float64\n",
      " 12  Vehicle_Type_encode             1000 non-null   int32  \n",
      "dtypes: float64(8), int32(1), int64(4)\n",
      "memory usage: 97.8 KB\n"
     ]
    }
   ],
   "source": [
    "df_copy.info()"
   ]
  },
  {
   "cell_type": "markdown",
   "id": "d4ca5e3a-9f9d-4431-a8b1-cbca284232cf",
   "metadata": {},
   "source": [
    "## Split data in traing and Testing dataset"
   ]
  },
  {
   "cell_type": "code",
   "execution_count": 46,
   "id": "f940e294-4ee1-4e3a-907d-38c9821692a1",
   "metadata": {},
   "outputs": [],
   "source": [
    "from sklearn.model_selection import train_test_split"
   ]
  },
  {
   "cell_type": "code",
   "execution_count": 47,
   "id": "1857c1be-2afd-48c0-a214-f2349a3070ce",
   "metadata": {},
   "outputs": [],
   "source": [
    "X = df_copy.drop(columns =['Historical_Cost_of_Ride'])\n",
    "y= df_copy['Historical_Cost_of_Ride']"
   ]
  },
  {
   "cell_type": "code",
   "execution_count": 48,
   "id": "f15438fc-0ef8-4afb-95af-0181d840ca35",
   "metadata": {},
   "outputs": [
    {
     "data": {
      "text/plain": [
       "((800, 12), (200, 12), (800,), (200,))"
      ]
     },
     "execution_count": 48,
     "metadata": {},
     "output_type": "execute_result"
    }
   ],
   "source": [
    "X_train,X_test,y_train,y_test = train_test_split(X,y,test_size = 0.2,random_state = 42)\n",
    "X_train.shape,X_test.shape,y_train.shape,y_test.shape"
   ]
  },
  {
   "cell_type": "code",
   "execution_count": 49,
   "id": "82b4d7c5-411a-43a2-9b14-04eff55edfee",
   "metadata": {},
   "outputs": [
    {
     "data": {
      "text/plain": [
       "(1000, 12)"
      ]
     },
     "execution_count": 49,
     "metadata": {},
     "output_type": "execute_result"
    }
   ],
   "source": [
    "X.shape"
   ]
  },
  {
   "cell_type": "code",
   "execution_count": 50,
   "id": "68a59da9-8166-4cb5-8914-dc901370e619",
   "metadata": {},
   "outputs": [
    {
     "data": {
      "text/plain": [
       "(800, 12)"
      ]
     },
     "execution_count": 50,
     "metadata": {},
     "output_type": "execute_result"
    }
   ],
   "source": [
    "X_train.shape"
   ]
  },
  {
   "cell_type": "code",
   "execution_count": 51,
   "id": "7368fb87-5d78-4fd9-aff9-7c08f1ff34eb",
   "metadata": {},
   "outputs": [
    {
     "data": {
      "text/plain": [
       "(200, 12)"
      ]
     },
     "execution_count": 51,
     "metadata": {},
     "output_type": "execute_result"
    }
   ],
   "source": [
    "X_test.shape"
   ]
  },
  {
   "cell_type": "code",
   "execution_count": 52,
   "id": "cbe19661-76e5-4d65-ab54-9da8d0016b37",
   "metadata": {},
   "outputs": [
    {
     "data": {
      "text/html": [
       "<div>\n",
       "<style scoped>\n",
       "    .dataframe tbody tr th:only-of-type {\n",
       "        vertical-align: middle;\n",
       "    }\n",
       "\n",
       "    .dataframe tbody tr th {\n",
       "        vertical-align: top;\n",
       "    }\n",
       "\n",
       "    .dataframe thead th {\n",
       "        text-align: right;\n",
       "    }\n",
       "</style>\n",
       "<table border=\"1\" class=\"dataframe\">\n",
       "  <thead>\n",
       "    <tr style=\"text-align: right;\">\n",
       "      <th></th>\n",
       "      <th>Number_of_Riders</th>\n",
       "      <th>Number_of_Drivers</th>\n",
       "      <th>Number_of_Past_Rides</th>\n",
       "      <th>Average_Ratings</th>\n",
       "      <th>Expected_Ride_Duration</th>\n",
       "      <th>Location_Category_encode</th>\n",
       "      <th>Customer_Loyalty_Status_encode</th>\n",
       "      <th>Time_of_Booking_Afternoon</th>\n",
       "      <th>Time_of_Booking_Evening</th>\n",
       "      <th>Time_of_Booking_Morning</th>\n",
       "      <th>Time_of_Booking_Night</th>\n",
       "      <th>Vehicle_Type_encode</th>\n",
       "    </tr>\n",
       "  </thead>\n",
       "  <tbody>\n",
       "    <tr>\n",
       "      <th>521</th>\n",
       "      <td>38</td>\n",
       "      <td>8</td>\n",
       "      <td>78</td>\n",
       "      <td>3.57</td>\n",
       "      <td>114</td>\n",
       "      <td>2.0</td>\n",
       "      <td>1.0</td>\n",
       "      <td>0.0</td>\n",
       "      <td>0.0</td>\n",
       "      <td>0.0</td>\n",
       "      <td>1.0</td>\n",
       "      <td>0</td>\n",
       "    </tr>\n",
       "    <tr>\n",
       "      <th>737</th>\n",
       "      <td>83</td>\n",
       "      <td>18</td>\n",
       "      <td>12</td>\n",
       "      <td>4.98</td>\n",
       "      <td>81</td>\n",
       "      <td>2.0</td>\n",
       "      <td>2.0</td>\n",
       "      <td>0.0</td>\n",
       "      <td>0.0</td>\n",
       "      <td>1.0</td>\n",
       "      <td>0.0</td>\n",
       "      <td>0</td>\n",
       "    </tr>\n",
       "    <tr>\n",
       "      <th>740</th>\n",
       "      <td>22</td>\n",
       "      <td>7</td>\n",
       "      <td>15</td>\n",
       "      <td>3.53</td>\n",
       "      <td>180</td>\n",
       "      <td>2.0</td>\n",
       "      <td>2.0</td>\n",
       "      <td>0.0</td>\n",
       "      <td>1.0</td>\n",
       "      <td>0.0</td>\n",
       "      <td>0.0</td>\n",
       "      <td>1</td>\n",
       "    </tr>\n",
       "    <tr>\n",
       "      <th>660</th>\n",
       "      <td>29</td>\n",
       "      <td>13</td>\n",
       "      <td>44</td>\n",
       "      <td>4.29</td>\n",
       "      <td>87</td>\n",
       "      <td>1.0</td>\n",
       "      <td>2.0</td>\n",
       "      <td>0.0</td>\n",
       "      <td>1.0</td>\n",
       "      <td>0.0</td>\n",
       "      <td>0.0</td>\n",
       "      <td>1</td>\n",
       "    </tr>\n",
       "    <tr>\n",
       "      <th>411</th>\n",
       "      <td>91</td>\n",
       "      <td>14</td>\n",
       "      <td>19</td>\n",
       "      <td>4.78</td>\n",
       "      <td>19</td>\n",
       "      <td>1.0</td>\n",
       "      <td>1.0</td>\n",
       "      <td>0.0</td>\n",
       "      <td>0.0</td>\n",
       "      <td>0.0</td>\n",
       "      <td>1.0</td>\n",
       "      <td>1</td>\n",
       "    </tr>\n",
       "  </tbody>\n",
       "</table>\n",
       "</div>"
      ],
      "text/plain": [
       "     Number_of_Riders  Number_of_Drivers  Number_of_Past_Rides  \\\n",
       "521                38                  8                    78   \n",
       "737                83                 18                    12   \n",
       "740                22                  7                    15   \n",
       "660                29                 13                    44   \n",
       "411                91                 14                    19   \n",
       "\n",
       "     Average_Ratings  Expected_Ride_Duration  Location_Category_encode  \\\n",
       "521             3.57                     114                       2.0   \n",
       "737             4.98                      81                       2.0   \n",
       "740             3.53                     180                       2.0   \n",
       "660             4.29                      87                       1.0   \n",
       "411             4.78                      19                       1.0   \n",
       "\n",
       "     Customer_Loyalty_Status_encode  Time_of_Booking_Afternoon  \\\n",
       "521                             1.0                        0.0   \n",
       "737                             2.0                        0.0   \n",
       "740                             2.0                        0.0   \n",
       "660                             2.0                        0.0   \n",
       "411                             1.0                        0.0   \n",
       "\n",
       "     Time_of_Booking_Evening  Time_of_Booking_Morning  Time_of_Booking_Night  \\\n",
       "521                      0.0                      0.0                    1.0   \n",
       "737                      0.0                      1.0                    0.0   \n",
       "740                      1.0                      0.0                    0.0   \n",
       "660                      1.0                      0.0                    0.0   \n",
       "411                      0.0                      0.0                    1.0   \n",
       "\n",
       "     Vehicle_Type_encode  \n",
       "521                    0  \n",
       "737                    0  \n",
       "740                    1  \n",
       "660                    1  \n",
       "411                    1  "
      ]
     },
     "execution_count": 52,
     "metadata": {},
     "output_type": "execute_result"
    }
   ],
   "source": [
    "X_test.head()"
   ]
  },
  {
   "cell_type": "code",
   "execution_count": null,
   "id": "9c10f54c-bf9d-473d-a0b0-ee2f36e654b4",
   "metadata": {},
   "outputs": [],
   "source": []
  },
  {
   "cell_type": "markdown",
   "id": "1813a34c-5d79-4049-8f86-eeac9e2f9121",
   "metadata": {},
   "source": []
  },
  {
   "cell_type": "code",
   "execution_count": null,
   "id": "426785bf-91a9-4a43-88f6-bcef23759dd9",
   "metadata": {},
   "outputs": [],
   "source": []
  },
  {
   "cell_type": "code",
   "execution_count": null,
   "id": "d4f5e155-07e1-4a1e-8029-fe8184197481",
   "metadata": {},
   "outputs": [],
   "source": []
  },
  {
   "cell_type": "code",
   "execution_count": null,
   "id": "dcf9f269-526c-4efe-9df9-c7468143b285",
   "metadata": {
    "scrolled": true
   },
   "outputs": [],
   "source": []
  },
  {
   "cell_type": "code",
   "execution_count": null,
   "id": "df747c17-e133-429a-af00-444319e15d53",
   "metadata": {},
   "outputs": [],
   "source": []
  },
  {
   "cell_type": "code",
   "execution_count": 53,
   "id": "50386828-2027-41ca-a043-b8e6ede206d2",
   "metadata": {
    "scrolled": true
   },
   "outputs": [
    {
     "data": {
      "text/plain": [
       "0      284.257273\n",
       "1      173.874753\n",
       "2      329.795469\n",
       "3      470.201232\n",
       "4      579.681422\n",
       "          ...    \n",
       "995     91.389526\n",
       "996    424.155987\n",
       "997    157.364830\n",
       "998    279.095048\n",
       "999    655.065106\n",
       "Name: Historical_Cost_of_Ride, Length: 1000, dtype: float64"
      ]
     },
     "execution_count": 53,
     "metadata": {},
     "output_type": "execute_result"
    }
   ],
   "source": [
    "y"
   ]
  },
  {
   "cell_type": "markdown",
   "id": "9fe3ff13-311b-4375-b458-fb15358ddc90",
   "metadata": {},
   "source": [
    "## Model Selection \n",
    "we will use Random Forest Regressor"
   ]
  },
  {
   "cell_type": "markdown",
   "id": "55f14af3-eae5-405a-a5ea-7e935193337b",
   "metadata": {},
   "source": [
    "#### 1. Import Model"
   ]
  },
  {
   "cell_type": "code",
   "execution_count": 54,
   "id": "b5498849-ca97-4346-8b21-5b21ad91c60a",
   "metadata": {},
   "outputs": [],
   "source": [
    "from sklearn.ensemble import RandomForestRegressor\n",
    "from sklearn.metrics import mean_absolute_error"
   ]
  },
  {
   "cell_type": "code",
   "execution_count": 55,
   "id": "50d43e0b-773e-4e3f-b66d-45e4e8cda592",
   "metadata": {},
   "outputs": [],
   "source": [
    "from sklearn.metrics import r2_score"
   ]
  },
  {
   "cell_type": "markdown",
   "id": "81d5b493-a410-41bd-a003-99ac1bc86c6d",
   "metadata": {},
   "source": [
    "#### 2. Train Model"
   ]
  },
  {
   "cell_type": "code",
   "execution_count": 86,
   "id": "a0e1ab8b-7522-4ceb-982c-e2cda91b946b",
   "metadata": {},
   "outputs": [],
   "source": [
    "# Intialize Random Forest Regressor\n",
    "rf_model = RandomForestRegressor(n_estimators = 50,random_state=42)\n",
    "\n",
    "# Train the model\n",
    "rf_model.fit(X_train,y_train)\n",
    "\n",
    "# Make Prediction\n",
    "y_pred = rf_model.predict(X_test)\n"
   ]
  },
  {
   "cell_type": "markdown",
   "id": "b3dc31c8-3f0a-4406-a434-3614618c6ec6",
   "metadata": {},
   "source": [
    "#### 3. Evaluate Model Performance"
   ]
  },
  {
   "cell_type": "code",
   "execution_count": 57,
   "id": "8dbe0fb0-5e4b-4367-a2db-b768bd5b9ff1",
   "metadata": {},
   "outputs": [
    {
     "data": {
      "text/plain": [
       "55.807628175207356"
      ]
     },
     "execution_count": 57,
     "metadata": {},
     "output_type": "execute_result"
    }
   ],
   "source": [
    "# Calculate Mean Absolute Error (MAE)\n",
    "mae = mean_absolute_error(y_test,y_pred)\n",
    "mae"
   ]
  },
  {
   "cell_type": "code",
   "execution_count": 58,
   "id": "194555e3-6146-4134-98d5-a6f9c945ac10",
   "metadata": {},
   "outputs": [
    {
     "data": {
      "text/plain": [
       "0.8483813976587727"
      ]
     },
     "execution_count": 58,
     "metadata": {},
     "output_type": "execute_result"
    }
   ],
   "source": [
    "r2score= r2_score(y_test,y_pred)\n",
    "r2score"
   ]
  },
  {
   "cell_type": "markdown",
   "id": "1c16cb4c-2ac1-4ddf-b0eb-1b9e443252f7",
   "metadata": {},
   "source": [
    "##  Hyperparameter Tunning"
   ]
  },
  {
   "cell_type": "markdown",
   "id": "b59085fd-f57f-435e-9498-d43f8754f8ba",
   "metadata": {},
   "source": [
    "### Grid Serach CV"
   ]
  },
  {
   "cell_type": "code",
   "execution_count": 59,
   "id": "b0567b64-50d9-4e39-bde5-e59077eec7d1",
   "metadata": {},
   "outputs": [],
   "source": [
    "from sklearn.model_selection import GridSearchCV,RandomizedSearchCV\n"
   ]
  },
  {
   "cell_type": "raw",
   "id": "52ef30f1-30d8-4bb1-96cd-b97a8363602e",
   "metadata": {},
   "source": [
    "# Define Parameter\n",
    "param_grid= {\n",
    "    'n_estimators' :[10,20,30,50],\n",
    "    'max_depth' : [None,5,10,20],\n",
    "    'min_samples_split' : [1,2,5],\n",
    "    'min_samples_leaf' : [1,2,3],\n",
    "    'max_features' : ['auto','sqrt'] \n",
    "}\n",
    "# Initialize Random Forest Model\n",
    "rf_model = RandomForestRegressor(random_state= 42)\n",
    "\n",
    "# Perform Grid Search\n",
    "grid_search = GridSearchCV(rf_model,param_grid,cv =5,scoring = 'neg_mean_absolute_error',n_jobs = -1)\n",
    "grid_search.fit(X_train,y_train)\n",
    "\n",
    "# Best Parameters\n",
    "print(\"Best Parameters:\",\n",
    "grid_search.best_params_)\n",
    "\n",
    "# Evalute with Best Model\n",
    "best_rf = grid_search.best_estimator_\n",
    "y_pred = best_rf.predict(X_test)\n",
    "mae = mean_absolute_error(y_test,y_pred)\n",
    "print(f\"Optimized MAE : {mae:.2f}\")"
   ]
  },
  {
   "cell_type": "code",
   "execution_count": 60,
   "id": "b388e9b4-3886-4e2f-a5f3-25733bc3a74b",
   "metadata": {},
   "outputs": [],
   "source": [
    "import warnings\n",
    "warnings.filterwarnings('ignore')"
   ]
  },
  {
   "cell_type": "code",
   "execution_count": 61,
   "id": "b037ba2b-cd3b-4d1c-89c9-2837611781af",
   "metadata": {},
   "outputs": [
    {
     "name": "stdout",
     "output_type": "stream",
     "text": [
      "Best Parameters: {'n_estimators': 100, 'min_samples_split': 2, 'min_samples_leaf': 2, 'max_features': 'sqrt', 'max_depth': 10}\n",
      "Optimized MAE : 61.75\n"
     ]
    }
   ],
   "source": [
    "# Define Parameters\n",
    "param_grid= {\n",
    "    'n_estimators' :[10,20,30,50,100],\n",
    "    'max_depth' : [None,5,10,20],\n",
    "    'min_samples_split' : [1,2,5,10],\n",
    "    'min_samples_leaf' : [1,2,3],\n",
    "    'max_features' : ['auto','sqrt'] \n",
    "}\n",
    "# Initialize Random Forest Model\n",
    "rf_model = RandomForestRegressor(random_state= 42)\n",
    "\n",
    "# Perform Grid Search\n",
    "random_cv = RandomizedSearchCV(rf_model,param_grid,cv =5,scoring = 'neg_mean_absolute_error',n_jobs = -1)\n",
    "random_cv.fit(X_train,y_train)\n",
    "\n",
    "# Best Parameters\n",
    "print(\"Best Parameters:\",\n",
    "random_cv.best_params_)\n",
    "\n",
    "# Evalute with Best Model\n",
    "best_rf = random_cv.best_estimator_\n",
    "y_pred = best_rf.predict(X_test)\n",
    "mae = mean_absolute_error(y_test,y_pred)\n",
    "print(f\"Optimized MAE : {mae:.2f}\")"
   ]
  },
  {
   "cell_type": "code",
   "execution_count": 62,
   "id": "92ef5977-b9c0-445e-ba12-665bbca28416",
   "metadata": {},
   "outputs": [
    {
     "data": {
      "text/plain": [
       "0.834628655668635"
      ]
     },
     "execution_count": 62,
     "metadata": {},
     "output_type": "execute_result"
    }
   ],
   "source": [
    "r2_score(y_test,y_pred)\n"
   ]
  },
  {
   "cell_type": "code",
   "execution_count": 75,
   "id": "10df88fa-4f69-48ca-a913-1b2fb7ae8517",
   "metadata": {},
   "outputs": [
    {
     "data": {
      "text/plain": [
       "Index(['Number_of_Riders', 'Number_of_Drivers', 'Number_of_Past_Rides',\n",
       "       'Average_Ratings', 'Expected_Ride_Duration', 'Location_Category_encode',\n",
       "       'Customer_Loyalty_Status_encode', 'Time_of_Booking_Afternoon',\n",
       "       'Time_of_Booking_Evening', 'Time_of_Booking_Morning',\n",
       "       'Time_of_Booking_Night', 'Vehicle_Type_encode'],\n",
       "      dtype='object')"
      ]
     },
     "execution_count": 75,
     "metadata": {},
     "output_type": "execute_result"
    }
   ],
   "source": [
    "X_train.columns"
   ]
  },
  {
   "cell_type": "code",
   "execution_count": 83,
   "id": "cdc8f1c2-046d-467d-9ebd-7d84c9a7b5e8",
   "metadata": {},
   "outputs": [
    {
     "data": {
      "text/html": [
       "<div>\n",
       "<style scoped>\n",
       "    .dataframe tbody tr th:only-of-type {\n",
       "        vertical-align: middle;\n",
       "    }\n",
       "\n",
       "    .dataframe tbody tr th {\n",
       "        vertical-align: top;\n",
       "    }\n",
       "\n",
       "    .dataframe thead th {\n",
       "        text-align: right;\n",
       "    }\n",
       "</style>\n",
       "<table border=\"1\" class=\"dataframe\">\n",
       "  <thead>\n",
       "    <tr style=\"text-align: right;\">\n",
       "      <th></th>\n",
       "      <th>Number_of_Riders</th>\n",
       "      <th>Number_of_Drivers</th>\n",
       "      <th>Number_of_Past_Rides</th>\n",
       "      <th>Average_Ratings</th>\n",
       "      <th>Expected_Ride_Duration</th>\n",
       "      <th>Location_Category_encode</th>\n",
       "      <th>Customer_Loyalty_Status_encode</th>\n",
       "      <th>Time_of_Booking_Afternoon</th>\n",
       "      <th>Time_of_Booking_Evening</th>\n",
       "      <th>Time_of_Booking_Morning</th>\n",
       "      <th>Time_of_Booking_Night</th>\n",
       "      <th>Vehicle_Type_encode</th>\n",
       "    </tr>\n",
       "  </thead>\n",
       "  <tbody>\n",
       "    <tr>\n",
       "      <th>29</th>\n",
       "      <td>57</td>\n",
       "      <td>38</td>\n",
       "      <td>54</td>\n",
       "      <td>4.1</td>\n",
       "      <td>131</td>\n",
       "      <td>1.0</td>\n",
       "      <td>1.0</td>\n",
       "      <td>0.0</td>\n",
       "      <td>0.0</td>\n",
       "      <td>0.0</td>\n",
       "      <td>1.0</td>\n",
       "      <td>1</td>\n",
       "    </tr>\n",
       "  </tbody>\n",
       "</table>\n",
       "</div>"
      ],
      "text/plain": [
       "    Number_of_Riders  Number_of_Drivers  Number_of_Past_Rides  \\\n",
       "29                57                 38                    54   \n",
       "\n",
       "    Average_Ratings  Expected_Ride_Duration  Location_Category_encode  \\\n",
       "29              4.1                     131                       1.0   \n",
       "\n",
       "    Customer_Loyalty_Status_encode  Time_of_Booking_Afternoon  \\\n",
       "29                             1.0                        0.0   \n",
       "\n",
       "    Time_of_Booking_Evening  Time_of_Booking_Morning  Time_of_Booking_Night  \\\n",
       "29                      0.0                      0.0                    1.0   \n",
       "\n",
       "    Vehicle_Type_encode  \n",
       "29                    1  "
      ]
     },
     "execution_count": 83,
     "metadata": {},
     "output_type": "execute_result"
    }
   ],
   "source": [
    "X_train.iloc[[0]]"
   ]
  },
  {
   "cell_type": "code",
   "execution_count": 87,
   "id": "52773ec4-bad6-44e4-85cc-2a0b83fe7f27",
   "metadata": {},
   "outputs": [
    {
     "data": {
      "text/plain": [
       "array([528.87291419])"
      ]
     },
     "execution_count": 87,
     "metadata": {},
     "output_type": "execute_result"
    }
   ],
   "source": [
    "rf_model.predict(X_train.iloc[[0]])"
   ]
  },
  {
   "cell_type": "markdown",
   "id": "294a940d-2002-4e5c-86db-004b08427713",
   "metadata": {},
   "source": [
    "### Export Model"
   ]
  },
  {
   "cell_type": "code",
   "execution_count": 88,
   "id": "9a4b63b7-2618-4048-97cd-04162cb9c339",
   "metadata": {},
   "outputs": [],
   "source": [
    "import pickle"
   ]
  },
  {
   "cell_type": "code",
   "execution_count": 89,
   "id": "80068113-0331-40b7-a398-343f75548758",
   "metadata": {},
   "outputs": [
    {
     "name": "stdout",
     "output_type": "stream",
     "text": [
      "Model saved successfully !\n"
     ]
    }
   ],
   "source": [
    "# save model to file\n",
    "\n",
    "with open(r'C:\\Users\\UNIQUE\\Desktop\\Jupyter\\Project4Reg_dynamic_pricing\\model\\rf_model.pkl','wb') as file:\n",
    "    pickle.dump(rf_model,file)\n",
    "\n",
    "print('Model saved successfully !')"
   ]
  },
  {
   "cell_type": "code",
   "execution_count": null,
   "id": "52d9a9b3-b01a-47ec-a3d6-df89f11c814a",
   "metadata": {},
   "outputs": [],
   "source": []
  }
 ],
 "metadata": {
  "kernelspec": {
   "display_name": "Python 3 (ipykernel)",
   "language": "python",
   "name": "python3"
  },
  "language_info": {
   "codemirror_mode": {
    "name": "ipython",
    "version": 3
   },
   "file_extension": ".py",
   "mimetype": "text/x-python",
   "name": "python",
   "nbconvert_exporter": "python",
   "pygments_lexer": "ipython3",
   "version": "3.12.4"
  }
 },
 "nbformat": 4,
 "nbformat_minor": 5
}
